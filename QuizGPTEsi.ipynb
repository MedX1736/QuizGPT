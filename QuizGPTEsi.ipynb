{
  "cells": [
    {
      "cell_type": "code",
      "source": [
        "import os"
      ],
      "metadata": {
        "id": "e3s9EqncabNb"
      },
      "execution_count": 1,
      "outputs": []
    },
    {
      "cell_type": "code",
      "source": [
        "os.environ[\"OPENAI_API_KEY\"] = input(\"Paste your OpenAI key here and hit enter:\")"
      ],
      "metadata": {
        "id": "5bN1elhvmdMk"
      },
      "execution_count": null,
      "outputs": []
    },
    {
      "cell_type": "code",
      "execution_count": null,
      "metadata": {
        "id": "VpAGW1J_uREs"
      },
      "outputs": [],
      "source": [
        "#Install Packages\n",
        "!pip install llama-index==0.5.6\n",
        "!pip install langchain==0.0.148\n",
        "!pip install PyPDF2\n",
        "!pip install streamlit\n",
        "!pip install openai\n",
        "# !pip install top2vec\n",
        "!pip install pdfplumber"
      ]
    },
    {
      "cell_type": "code",
      "execution_count": null,
      "metadata": {
        "id": "xE4eUfcjTCBc"
      },
      "outputs": [],
      "source": [
        "!git clone https://github.com/MedX1736/QuizGPT.git"
      ]
    },
    {
      "cell_type": "markdown",
      "metadata": {
        "id": "J7mESJkpuU-j"
      },
      "source": [
        "## **Data Extraction From Pdf Files**"
      ]
    },
    {
      "cell_type": "code",
      "execution_count": 5,
      "metadata": {
        "id": "v_49kUuHugLA"
      },
      "outputs": [],
      "source": [
        "import pdfplumber\n",
        "try :   \n",
        "  os.mkdir(\"context\")\n",
        "except :\n",
        "  print(\"Data Not Available\")\n",
        "# creating a pdf file object\n",
        "files = os.listdir(\"/content/QuizGPT/pdfData/TPRO\")\n",
        "topics =[]\n",
        "i = 0 \n",
        "for file in files :\n",
        "  if file.endswith('.pdf'):\n",
        "    pdf = pdfplumber.open(\"/content/QuizGPT/pdfData/TPRO/\" + file)\n",
        "    context= \"\"\n",
        "    # Extract and concatenate each page's content\n",
        "    for page in pdf.pages:\n",
        "        # creating a page object\n",
        "        # extracting text  and Titles from pdf\n",
        "        context += page.extract_text()\n",
        "        topics.append(page.filter(lambda obj: obj[\"object_type\"] == \"char\" and \"Bold\" in obj[\"fontname\"]).extract_text())\n",
        "    text_output_path = \"context/text{}.txt\".format(i)\n",
        "    with open(text_output_path, 'w', encoding='utf-8') as output_file:\n",
        "          output_file.write(context)\n",
        "    i = i+1"
      ]
    },
    {
      "cell_type": "markdown",
      "metadata": {
        "id": "6t39xzGVWa9G"
      },
      "source": [
        "# **Topics Extraction**"
      ]
    },
    {
      "cell_type": "code",
      "execution_count": 6,
      "metadata": {
        "id": "TEgvq9H1jrh8"
      },
      "outputs": [],
      "source": [
        "import re\n",
        "def clean_topics(topics):\n",
        "  result = []\n",
        "  for text in topics :\n",
        "    splitted = text.split(\"\\n\")\n",
        "    for topic in splitted :\n",
        "      # Remove Greek numbers\n",
        "      x = re.sub(r'\\b[IVX]+\\b', '', text)\n",
        "      x = re.sub(r'^[\\d\\W_]+\\s*', '', topic)\n",
        "      if x != \"\" :\n",
        "        result.append(x.strip())\n",
        "  result = [topic for topic in result if len(topic) > 4]\n",
        "  result = [ topic for topic in result if not (\"exemple\" in topic.lower())]\n",
        "  result = [ topic for topic in result if not (\"chapitre\" in topic.lower())] \n",
        "  return result"
      ]
    },
    {
      "cell_type": "code",
      "execution_count": 7,
      "metadata": {
        "id": "80b_aC28s60w"
      },
      "outputs": [],
      "source": [
        "topics = clean_topics(topics)"
      ]
    },
    {
      "cell_type": "code",
      "execution_count": null,
      "metadata": {
        "id": "0rX3Krc2WdUS"
      },
      "outputs": [],
      "source": [
        "from top2vec import Top2Vec\n",
        "import multiprocessing\n",
        "multiprocessing.cpu_count()"
      ]
    },
    {
      "cell_type": "code",
      "execution_count": null,
      "metadata": {
        "id": "jnc9E6OebIlm"
      },
      "outputs": [],
      "source": [
        "model = Top2Vec(documents=text, speed='learn',workers=multiprocessing.cpu_count())"
      ]
    },
    {
      "cell_type": "code",
      "execution_count": null,
      "metadata": {
        "id": "cc5TyYFyxamB"
      },
      "outputs": [],
      "source": [
        "topics_words, word_scores, topic_nums = model.get_topics()\n",
        "print(topics_words) # you can directly do model.topic_words[3] too\n",
        "print(word_scores)"
      ]
    },
    {
      "cell_type": "code",
      "source": [
        "topics"
      ],
      "metadata": {
        "colab": {
          "base_uri": "https://localhost:8080/"
        },
        "id": "o2L29A4Tnqio",
        "outputId": "2799edb9-d35a-407e-ec6d-ddbbb7c77987"
      },
      "execution_count": 8,
      "outputs": [
        {
          "output_type": "execute_result",
          "data": {
            "text/plain": [
              "['Concepts préliminaires',\n",
              " 'I.1. Mesure des algorithmes : O-notation',\n",
              " 'I.1.1 Introduction',\n",
              " 'n 40 42 44 45 48 50 52 100 2 . 105 4 . 105 106',\n",
              " 'I.1.2 Définition',\n",
              " 'Comportement asymptotique :',\n",
              " 'Principe d’invariance :',\n",
              " 'Propriétés de la O-notation',\n",
              " 'Quelques complexités usuelles',\n",
              " 'Autres notations',\n",
              " 'Opérations élémentaires',\n",
              " 'I.1.3 Règles de calcul de la complexité',\n",
              " 'I.1.4 Complexité des algorithmes récursifs',\n",
              " 'a) Application de la première approche « par substitution »',\n",
              " 'b) Application de la deuxième approche « par vérification »',\n",
              " 'c) Application de la troisième approche « par identification à des équations connues »',\n",
              " 'Cas des équations homogènes',\n",
              " 'Cas des équations non homogènes:',\n",
              " 'I.1.5 Analyse hybride',\n",
              " 'Tri par sélection Tri par insertion Tri par fusion Tri de Hoare (qsort)',\n",
              " 'n O(n2) O(n2) O(n*log n) O(n*log n)',\n",
              " 'jours 4.23 s 4.56 s',\n",
              " 'mois 48.51 s 39.45 s',\n",
              " 'Temps mesuré Temps estimé par la formule',\n",
              " 'n par les tests sur PC ( 5.65 10-9 * 1.62n )',\n",
              " \"Plus de 10184 milliard d'années\",\n",
              " 'I.2. Graphes et algorithmes de parcours',\n",
              " 'I.2.1 Définitions et terminologie',\n",
              " 'Graphe orienté :',\n",
              " 'Graphe non orienté :',\n",
              " 'I.2.2 Représentation mémoire',\n",
              " 'a) Par matrice associée',\n",
              " 'b) Tableaux de listes linéaires chaînées (Liste d’adjacence)',\n",
              " \"I.2.3 Parcours d'un graphe\",\n",
              " 'a) Depht First Search : Parcours en Profondeur',\n",
              " 'b) Breadth First Search: Parcours en Largeur',\n",
              " 'Programmation Procédurale',\n",
              " 'Objectif',\n",
              " 'variables étrangères au problème',\n",
              " 'séquencement artificiel',\n",
              " 'classes',\n",
              " 'Les langages structurés',\n",
              " 'Les langages non structurés',\n",
              " 'Les schémas de programmes',\n",
              " 'B-Schémas',\n",
              " 'B B B B',\n",
              " 'D-Schéma',\n",
              " 'D D D D D D',\n",
              " 'BJ -Schémas',\n",
              " 'BJ BJ BJ BJ BJ BJ BJ',\n",
              " 'RE -Schémas',\n",
              " 'RE RE RE RE RE RE',\n",
              " 'REC -Schémas',\n",
              " 'Appliquer une interprétation I sur un schéma de programme donne lieux à un programme',\n",
              " 'S1 est réductible à S2 R S1 S2',\n",
              " 'S1 est équivalent à S2 R S1 S2',\n",
              " 'S1 est strictement réductible à S2 R',\n",
              " 'S1 S2',\n",
              " 'Conversion Fonctionnelle (FN)',\n",
              " 'S1 S2 :',\n",
              " 'Conversion Sémantique (SE)',\n",
              " 'S1 S2 :',\n",
              " 'Comparaison sémantique (Rao-Kosaraju 1974)',\n",
              " 'Comparaison Fonctionnelle (Böhm et Jacopini 1968)',\n",
              " 'etat ← $0',\n",
              " 'etat != stop',\n",
              " 'etat ← e1',\n",
              " 'e1 etat ← $1',\n",
              " 'etat ← e2 etat ← e3',\n",
              " 'e2 etat ← e3',\n",
              " 'e3 etat ← e4 etat ← e1',\n",
              " 'e4 etat ← stop',\n",
              " 'calcule',\n",
              " 'Prouver P',\n",
              " 'Enoncés',\n",
              " 'Axiome AFF',\n",
              " \"Règles d'inférences :\",\n",
              " 'a 0 & b > 0 ) { DIV } ( a = bq+r & r<b )',\n",
              " 'a 0 & b > 0 ) { DIV } ( a = bq+r & r<b )',\n",
              " 'a 0 & b > 0 ) { P ; Q } ( a = bq+r & r<b )',\n",
              " 'a 0 & b > 0 ) { P } F F { Q } ( a = bq+r & r<b )',\n",
              " 'F { Q } ( a = bq+r & r<b )',\n",
              " 'F { TQ (r >=b) q ← q + 1 ; r ← r – b FTQ } ( a = bq+r & r<b )',\n",
              " 'F { TQ (B) q ← q + 1 ; r ← r – b FTQ } ( F & B )',\n",
              " 'F & B) { q ← q + 1 ; r ← r – b } F',\n",
              " 'F & B) { q ← q + 1 } G G { r ← r – b } F',\n",
              " 'a = b(q+1)+r-b) { q ← q + 1 } G',\n",
              " 'F & B) (a = b(q+1)+r-b)',\n",
              " 'a 0 & b > 0 ) { P } F',\n",
              " 'a 0 & b > 0 ) { q ← 0 } H H { r ← a } F',\n",
              " 'a =0+a ) { q ← 0 } H ( a 0 & b > 0 ) vrai',\n",
              " 'P1 P2',\n",
              " 'F : ( x2 n & y=(x+1)2 & z =2x+1)',\n",
              " 'C. Extension aux appels récursifs',\n",
              " \"Règle de l'appel\",\n",
              " \"En cas d'appels récursifs\",\n",
              " 'Programmation Fonctionnelle',\n",
              " 'Introduction',\n",
              " 'Caractéristiques des langages purement fonctionnels:',\n",
              " 'Schéma de programmes fonctionnels',\n",
              " 'Le λ-calcul',\n",
              " 'Application de fonction - « curryfication »',\n",
              " 'Définition de nouvelles fonctions (λ-abstraction)',\n",
              " \"Syntaxe générale d'une λ-expression\",\n",
              " \"Conventions d'écriture des λ-expressions\",\n",
              " 'Variables libres et variables liées',\n",
              " 'Substitution',\n",
              " 'Règles de conversion',\n",
              " 'Bêta conversion',\n",
              " 'Alpha conversion',\n",
              " 'Êta conversion',\n",
              " 'Formes Normales',\n",
              " 'Ordres de réduction',\n",
              " 'Théorème de Church-Rosser I',\n",
              " 'Théorème de Church-Rosser II',\n",
              " 'λ-calcul et fonctions récursives',\n",
              " 'règle de Y',\n",
              " 'Le langage LISP',\n",
              " 'Quelques fonctions et objets prédéfinis',\n",
              " 'Fonction identité',\n",
              " 'Valeurs de vérité',\n",
              " 'Quelques fonctions booléennes',\n",
              " 'La conditionnelle',\n",
              " 'Manipulation de listes',\n",
              " 'Définition de nouvelles fonctions en Lisp',\n",
              " \"Fonctions d'ordre supérieur\",\n",
              " 'Preuves de programmes fonctionnels',\n",
              " 'Approche point fixe',\n",
              " 'a- preuve totale :',\n",
              " 'b- preuve partielle :',\n",
              " 'q q q',\n",
              " 'Recherche de solutions par Exploration de Graphes',\n",
              " 'III.1. Introduction',\n",
              " 'III.2. Recherche en profondeur (Backtracking)',\n",
              " 'III.2.2. Application du Backtracking dans les arbres de jeux',\n",
              " 'III.3. Recherche en largeur (Breadth First Search)',\n",
              " 'Théorie de la Complexité',\n",
              " 'V.1. Introduction',\n",
              " 'V.2. Modélisation de problèmes',\n",
              " 'V.3. Modélisation des traitements',\n",
              " 'V.4. Classification des problèmes',\n",
              " 'Classe P :',\n",
              " 'Classe NP :',\n",
              " 'Réduction de Turing',\n",
              " 'Réduction par association',\n",
              " 'NP\\xadComplétude',\n",
              " 'Programmation Logique',\n",
              " 'Introduction',\n",
              " 'Rappel sur logique du premier ordre',\n",
              " \"Définition d'un terme\",\n",
              " \"Définition d'un atome\",\n",
              " \"Définition d'une formule (énoncé)\",\n",
              " 'Conséquence logique',\n",
              " 'Démonstration automatique de théorèmes',\n",
              " 'Clauses',\n",
              " 'Substitution',\n",
              " 'Unificateur',\n",
              " 'Unification de 2 termes : Couple de désaccord',\n",
              " 'D(t1, t2)',\n",
              " 'Unification de 2 termes : algorithme',\n",
              " 'Système formel de la résolution',\n",
              " 'Détermination des résolvantes : ( Explication )',\n",
              " 'Algorithme général de résolution (Stratégie par saturation)',\n",
              " 'Quelques cas particuliers de la résolution',\n",
              " 'Variante de la résolution pour les clauses de Horn',\n",
              " 'Algorithme de la résolution descendante :',\n",
              " \"Signaler 'échec'\",\n",
              " \"Signaler 'Succès'\",\n",
              " 'Le langage Prolog',\n",
              " 'Objets manipulés en Prolog',\n",
              " 'Fonctionnement du démonstrateur automatique de Prolog',\n",
              " 'Les listes en Prolog',\n",
              " 'Les objet structurés',\n",
              " 'Concepts préliminaires :',\n",
              " 'Objectif',\n",
              " 'alphabet',\n",
              " 'formules bien formées',\n",
              " 'axiomes',\n",
              " \"règles d'inférence\",\n",
              " 'déduction',\n",
              " 'théorème',\n",
              " 'cohérent',\n",
              " 'consistant',\n",
              " 'décidable',\n",
              " 'correct',\n",
              " 'complet',\n",
              " 'Point(s) Fixe(s) de F',\n",
              " 'Majorant',\n",
              " 'Minorant',\n",
              " 'borne supérieure',\n",
              " 'borne inférieure',\n",
              " 'chaîne',\n",
              " 'stationnaire',\n",
              " 'inductif',\n",
              " 'continue',\n",
              " 'x = f(x)',\n",
              " 'a) Montrons que x = Sup ( f ( ) ) est une solution de x = f(x)',\n",
              " 'x = f(x )',\n",
              " 'b) Montrons que x = Sup ( f ( ) ) est la plus petite des solutions',\n",
              " 'Sup (f ( )) y',\n",
              " 'Recherches Guidées par Heuristiques',\n",
              " \"IV.1. Notion d'heuristique\",\n",
              " 'IV.1.1. Algorithmes voraces (gloutons)',\n",
              " 'IV.2. Les Recherches Guidées',\n",
              " 'IV.2.1. DFS avec estimation (Hill\\xadClimbing)',\n",
              " 'IV.2.2. BFS avec estimation (Best First Search)',\n",
              " 'IV.2.3. La famille de méthodes \"Branch & Bound / A*\"',\n",
              " 'Approches par Décomposition',\n",
              " 'II.A) Approche descendante : Diviser Pour Résoudre',\n",
              " 'II.A.1 Principe général',\n",
              " 'Décomposer',\n",
              " 'DPR(xi)',\n",
              " 'Combiner',\n",
              " 'II.A.2 Applications de DPR',\n",
              " 'II.A.2.1. Tri par fusion',\n",
              " 'II.A.2.2. Multiplication de grands entiers',\n",
              " \"II.A.2.3. Organisation d'un tournoi circulaire :\",\n",
              " 'n = 2',\n",
              " 'n = 4 = 22',\n",
              " 'n = 8 = 23',\n",
              " 'II.A.2.4. Tour de Hanoi',\n",
              " 'II.A.3 Recommandations générales sur « Diviser pour Résoudre »',\n",
              " 'II.B) Approche ascendante :',\n",
              " 'Programmation Dynamique',\n",
              " 'II.B.1. Principe général',\n",
              " 'II.B.2. Applications',\n",
              " 'II.B.2.1. Calcul de C p',\n",
              " 'II.B.2.2. La suite de Fibonacci',\n",
              " 'II.B.2.3. Série mondiale',\n",
              " 'II.B.2.4. Les plus courts chemins',\n",
              " 'II.B.2.5. Multiplication chaînée de matrices']"
            ]
          },
          "metadata": {},
          "execution_count": 8
        }
      ]
    },
    {
      "cell_type": "code",
      "source": [
        "len(topics)"
      ],
      "metadata": {
        "colab": {
          "base_uri": "https://localhost:8080/"
        },
        "id": "AXORfhvBuFLw",
        "outputId": "3522582b-197b-4655-f151-c5cff8a79e79"
      },
      "execution_count": 9,
      "outputs": [
        {
          "output_type": "execute_result",
          "data": {
            "text/plain": [
              "231"
            ]
          },
          "metadata": {},
          "execution_count": 9
        }
      ]
    },
    {
      "cell_type": "markdown",
      "metadata": {
        "id": "ntgRi22hWwJl"
      },
      "source": [
        "# **Constructing Index**"
      ]
    },
    {
      "cell_type": "code",
      "execution_count": 11,
      "metadata": {
        "id": "3jAUv8cjySKr"
      },
      "outputs": [],
      "source": [
        "import sys\n",
        "import os\n",
        "from IPython.display import Markdown, display\n",
        "from llama_index import SimpleDirectoryReader, GPTListIndex, readers, GPTSimpleVectorIndex, LLMPredictor, PromptHelper, ServiceContext\n",
        "from langchain import OpenAI\n",
        "\n",
        "def construct_index(directory_path):\n",
        "    max_input_size = 4096\n",
        "    num_outputs = 2000\n",
        "    max_chunk_overlap = 20\n",
        "    chunk_size_limit = 600 \n",
        "\n",
        "    # define prompt helpera\n",
        "    prompt_helper = PromptHelper(max_input_size, num_outputs, max_chunk_overlap, chunk_size_limit=chunk_size_limit)\n",
        "\n",
        "    # define LLM\n",
        "    llm_predictor = LLMPredictor(llm=OpenAI(temperature=0.5, model_name=\"text-davinci-003\", max_tokens=num_outputs,language='fr'))\n",
        "    \n",
        "    # Get documents\n",
        "    documents = SimpleDirectoryReader(directory_path).load_data()\n",
        "    \n",
        "    # Creating the index\n",
        "    service_context = ServiceContext.from_defaults(llm_predictor=llm_predictor, prompt_helper=prompt_helper)\n",
        "    index = GPTSimpleVectorIndex.from_documents(documents, service_context=service_context)\n",
        "    index.save_to_disk('index.json')\n",
        "    return index"
      ]
    },
    {
      "cell_type": "code",
      "execution_count": 12,
      "metadata": {
        "id": "zqInhbWvVg29",
        "colab": {
          "base_uri": "https://localhost:8080/",
          "height": 312
        },
        "outputId": "1001bbc8-2163-42d0-a252-b8f506442418"
      },
      "outputs": [
        {
          "output_type": "error",
          "ename": "KeyboardInterrupt",
          "evalue": "ignored",
          "traceback": [
            "\u001b[0;31m---------------------------------------------------------------------------\u001b[0m",
            "\u001b[0;31mKeyboardInterrupt\u001b[0m                         Traceback (most recent call last)",
            "\u001b[0;32m<ipython-input-12-b52f10efcb66>\u001b[0m in \u001b[0;36m<cell line: 1>\u001b[0;34m()\u001b[0m\n\u001b[0;32m----> 1\u001b[0;31m \u001b[0mindex\u001b[0m  \u001b[0;34m=\u001b[0m \u001b[0mconstruct_index\u001b[0m\u001b[0;34m(\u001b[0m\u001b[0;34m\"context\"\u001b[0m\u001b[0;34m)\u001b[0m\u001b[0;34m\u001b[0m\u001b[0;34m\u001b[0m\u001b[0m\n\u001b[0m",
            "\u001b[0;32m<ipython-input-11-9fab890a8fa6>\u001b[0m in \u001b[0;36mconstruct_index\u001b[0;34m(directory_path)\u001b[0m\n\u001b[1;32m     12\u001b[0m \u001b[0;34m\u001b[0m\u001b[0m\n\u001b[1;32m     13\u001b[0m     \u001b[0;31m# define prompt helpera\u001b[0m\u001b[0;34m\u001b[0m\u001b[0;34m\u001b[0m\u001b[0m\n\u001b[0;32m---> 14\u001b[0;31m     \u001b[0mprompt_helper\u001b[0m \u001b[0;34m=\u001b[0m \u001b[0mPromptHelper\u001b[0m\u001b[0;34m(\u001b[0m\u001b[0mmax_input_size\u001b[0m\u001b[0;34m,\u001b[0m \u001b[0mnum_outputs\u001b[0m\u001b[0;34m,\u001b[0m \u001b[0mmax_chunk_overlap\u001b[0m\u001b[0;34m,\u001b[0m \u001b[0mchunk_size_limit\u001b[0m\u001b[0;34m=\u001b[0m\u001b[0mchunk_size_limit\u001b[0m\u001b[0;34m)\u001b[0m\u001b[0;34m\u001b[0m\u001b[0;34m\u001b[0m\u001b[0m\n\u001b[0m\u001b[1;32m     15\u001b[0m \u001b[0;34m\u001b[0m\u001b[0m\n\u001b[1;32m     16\u001b[0m     \u001b[0;31m# define LLM\u001b[0m\u001b[0;34m\u001b[0m\u001b[0;34m\u001b[0m\u001b[0m\n",
            "\u001b[0;32m/usr/local/lib/python3.10/dist-packages/llama_index/indices/prompt_helper.py\u001b[0m in \u001b[0;36m__init__\u001b[0;34m(self, max_input_size, num_output, max_chunk_overlap, embedding_limit, chunk_size_limit, tokenizer, separator)\u001b[0m\n\u001b[1;32m     49\u001b[0m         \u001b[0mself\u001b[0m\u001b[0;34m.\u001b[0m\u001b[0mchunk_size_limit\u001b[0m \u001b[0;34m=\u001b[0m \u001b[0mchunk_size_limit\u001b[0m\u001b[0;34m\u001b[0m\u001b[0;34m\u001b[0m\u001b[0m\n\u001b[1;32m     50\u001b[0m         \u001b[0;31m# TODO: make configurable\u001b[0m\u001b[0;34m\u001b[0m\u001b[0;34m\u001b[0m\u001b[0m\n\u001b[0;32m---> 51\u001b[0;31m         \u001b[0mself\u001b[0m\u001b[0;34m.\u001b[0m\u001b[0m_tokenizer\u001b[0m \u001b[0;34m=\u001b[0m \u001b[0mtokenizer\u001b[0m \u001b[0;32mor\u001b[0m \u001b[0mglobals_helper\u001b[0m\u001b[0;34m.\u001b[0m\u001b[0mtokenizer\u001b[0m\u001b[0;34m\u001b[0m\u001b[0;34m\u001b[0m\u001b[0m\n\u001b[0m\u001b[1;32m     52\u001b[0m         \u001b[0mself\u001b[0m\u001b[0;34m.\u001b[0m\u001b[0m_separator\u001b[0m \u001b[0;34m=\u001b[0m \u001b[0mseparator\u001b[0m\u001b[0;34m\u001b[0m\u001b[0;34m\u001b[0m\u001b[0m\n\u001b[1;32m     53\u001b[0m         \u001b[0mself\u001b[0m\u001b[0;34m.\u001b[0m\u001b[0muse_chunk_size_limit\u001b[0m \u001b[0;34m=\u001b[0m \u001b[0mchunk_size_limit\u001b[0m \u001b[0;32mis\u001b[0m \u001b[0;32mnot\u001b[0m \u001b[0;32mNone\u001b[0m\u001b[0;34m\u001b[0m\u001b[0;34m\u001b[0m\u001b[0m\n",
            "\u001b[0;32m/usr/local/lib/python3.10/dist-packages/llama_index/utils.py\u001b[0m in \u001b[0;36mtokenizer\u001b[0;34m(self)\u001b[0m\n\u001b[1;32m     36\u001b[0m                 \u001b[0;32mexcept\u001b[0m \u001b[0mImportError\u001b[0m\u001b[0;34m:\u001b[0m\u001b[0;34m\u001b[0m\u001b[0;34m\u001b[0m\u001b[0m\n\u001b[1;32m     37\u001b[0m                     \u001b[0;32mraise\u001b[0m \u001b[0mImportError\u001b[0m\u001b[0;34m(\u001b[0m\u001b[0mtiktoken_import_err\u001b[0m\u001b[0;34m)\u001b[0m\u001b[0;34m\u001b[0m\u001b[0;34m\u001b[0m\u001b[0m\n\u001b[0;32m---> 38\u001b[0;31m                 \u001b[0menc\u001b[0m \u001b[0;34m=\u001b[0m \u001b[0mtiktoken\u001b[0m\u001b[0;34m.\u001b[0m\u001b[0mget_encoding\u001b[0m\u001b[0;34m(\u001b[0m\u001b[0;34m\"gpt2\"\u001b[0m\u001b[0;34m)\u001b[0m\u001b[0;34m\u001b[0m\u001b[0;34m\u001b[0m\u001b[0m\n\u001b[0m\u001b[1;32m     39\u001b[0m                 \u001b[0mself\u001b[0m\u001b[0;34m.\u001b[0m\u001b[0m_tokenizer\u001b[0m \u001b[0;34m=\u001b[0m \u001b[0mcast\u001b[0m\u001b[0;34m(\u001b[0m\u001b[0mCallable\u001b[0m\u001b[0;34m[\u001b[0m\u001b[0;34m[\u001b[0m\u001b[0mstr\u001b[0m\u001b[0;34m]\u001b[0m\u001b[0;34m,\u001b[0m \u001b[0mList\u001b[0m\u001b[0;34m]\u001b[0m\u001b[0;34m,\u001b[0m \u001b[0menc\u001b[0m\u001b[0;34m.\u001b[0m\u001b[0mencode\u001b[0m\u001b[0;34m)\u001b[0m\u001b[0;34m\u001b[0m\u001b[0;34m\u001b[0m\u001b[0m\n\u001b[1;32m     40\u001b[0m             \u001b[0;32melse\u001b[0m\u001b[0;34m:\u001b[0m\u001b[0;34m\u001b[0m\u001b[0;34m\u001b[0m\u001b[0m\n",
            "\u001b[0;32m/usr/local/lib/python3.10/dist-packages/tiktoken/registry.py\u001b[0m in \u001b[0;36mget_encoding\u001b[0;34m(encoding_name)\u001b[0m\n\u001b[1;32m     61\u001b[0m \u001b[0;34m\u001b[0m\u001b[0m\n\u001b[1;32m     62\u001b[0m         \u001b[0mconstructor\u001b[0m \u001b[0;34m=\u001b[0m \u001b[0mENCODING_CONSTRUCTORS\u001b[0m\u001b[0;34m[\u001b[0m\u001b[0mencoding_name\u001b[0m\u001b[0;34m]\u001b[0m\u001b[0;34m\u001b[0m\u001b[0;34m\u001b[0m\u001b[0m\n\u001b[0;32m---> 63\u001b[0;31m         \u001b[0menc\u001b[0m \u001b[0;34m=\u001b[0m \u001b[0mEncoding\u001b[0m\u001b[0;34m(\u001b[0m\u001b[0;34m**\u001b[0m\u001b[0mconstructor\u001b[0m\u001b[0;34m(\u001b[0m\u001b[0;34m)\u001b[0m\u001b[0;34m)\u001b[0m\u001b[0;34m\u001b[0m\u001b[0;34m\u001b[0m\u001b[0m\n\u001b[0m\u001b[1;32m     64\u001b[0m         \u001b[0mENCODINGS\u001b[0m\u001b[0;34m[\u001b[0m\u001b[0mencoding_name\u001b[0m\u001b[0;34m]\u001b[0m \u001b[0;34m=\u001b[0m \u001b[0menc\u001b[0m\u001b[0;34m\u001b[0m\u001b[0;34m\u001b[0m\u001b[0m\n\u001b[1;32m     65\u001b[0m         \u001b[0;32mreturn\u001b[0m \u001b[0menc\u001b[0m\u001b[0;34m\u001b[0m\u001b[0;34m\u001b[0m\u001b[0m\n",
            "\u001b[0;32m/usr/local/lib/python3.10/dist-packages/tiktoken_ext/openai_public.py\u001b[0m in \u001b[0;36mgpt2\u001b[0;34m()\u001b[0m\n\u001b[1;32m      9\u001b[0m \u001b[0;34m\u001b[0m\u001b[0m\n\u001b[1;32m     10\u001b[0m \u001b[0;32mdef\u001b[0m \u001b[0mgpt2\u001b[0m\u001b[0;34m(\u001b[0m\u001b[0;34m)\u001b[0m\u001b[0;34m:\u001b[0m\u001b[0;34m\u001b[0m\u001b[0;34m\u001b[0m\u001b[0m\n\u001b[0;32m---> 11\u001b[0;31m     mergeable_ranks = data_gym_to_mergeable_bpe_ranks(\n\u001b[0m\u001b[1;32m     12\u001b[0m         \u001b[0mvocab_bpe_file\u001b[0m\u001b[0;34m=\u001b[0m\u001b[0;34m\"https://openaipublic.blob.core.windows.net/gpt-2/encodings/main/vocab.bpe\"\u001b[0m\u001b[0;34m,\u001b[0m\u001b[0;34m\u001b[0m\u001b[0;34m\u001b[0m\u001b[0m\n\u001b[1;32m     13\u001b[0m         \u001b[0mencoder_json_file\u001b[0m\u001b[0;34m=\u001b[0m\u001b[0;34m\"https://openaipublic.blob.core.windows.net/gpt-2/encodings/main/encoder.json\"\u001b[0m\u001b[0;34m,\u001b[0m\u001b[0;34m\u001b[0m\u001b[0;34m\u001b[0m\u001b[0m\n",
            "\u001b[0;32m/usr/local/lib/python3.10/dist-packages/tiktoken/load.py\u001b[0m in \u001b[0;36mdata_gym_to_mergeable_bpe_ranks\u001b[0;34m(vocab_bpe_file, encoder_json_file)\u001b[0m\n\u001b[1;32m     90\u001b[0m     \u001b[0;31m# this sanity check is important since tiktoken assumes that ranks are ordered the same\u001b[0m\u001b[0;34m\u001b[0m\u001b[0;34m\u001b[0m\u001b[0m\n\u001b[1;32m     91\u001b[0m     \u001b[0;31m# as merge priority\u001b[0m\u001b[0;34m\u001b[0m\u001b[0;34m\u001b[0m\u001b[0m\n\u001b[0;32m---> 92\u001b[0;31m     \u001b[0mencoder_json\u001b[0m \u001b[0;34m=\u001b[0m \u001b[0mjson\u001b[0m\u001b[0;34m.\u001b[0m\u001b[0mloads\u001b[0m\u001b[0;34m(\u001b[0m\u001b[0mread_file_cached\u001b[0m\u001b[0;34m(\u001b[0m\u001b[0mencoder_json_file\u001b[0m\u001b[0;34m)\u001b[0m\u001b[0;34m)\u001b[0m\u001b[0;34m\u001b[0m\u001b[0;34m\u001b[0m\u001b[0m\n\u001b[0m\u001b[1;32m     93\u001b[0m     \u001b[0mencoder_json_loaded\u001b[0m \u001b[0;34m=\u001b[0m \u001b[0;34m{\u001b[0m\u001b[0mdecode_data_gym\u001b[0m\u001b[0;34m(\u001b[0m\u001b[0mk\u001b[0m\u001b[0;34m)\u001b[0m\u001b[0;34m:\u001b[0m \u001b[0mv\u001b[0m \u001b[0;32mfor\u001b[0m \u001b[0mk\u001b[0m\u001b[0;34m,\u001b[0m \u001b[0mv\u001b[0m \u001b[0;32min\u001b[0m \u001b[0mencoder_json\u001b[0m\u001b[0;34m.\u001b[0m\u001b[0mitems\u001b[0m\u001b[0;34m(\u001b[0m\u001b[0;34m)\u001b[0m\u001b[0;34m}\u001b[0m\u001b[0;34m\u001b[0m\u001b[0;34m\u001b[0m\u001b[0m\n\u001b[1;32m     94\u001b[0m     \u001b[0;31m# drop these two special tokens if present, since they're not mergeable bpe tokens\u001b[0m\u001b[0;34m\u001b[0m\u001b[0;34m\u001b[0m\u001b[0m\n",
            "\u001b[0;32m/usr/local/lib/python3.10/dist-packages/tiktoken/load.py\u001b[0m in \u001b[0;36mread_file_cached\u001b[0;34m(blobpath)\u001b[0m\n\u001b[1;32m     46\u001b[0m             \u001b[0;32mreturn\u001b[0m \u001b[0mf\u001b[0m\u001b[0;34m.\u001b[0m\u001b[0mread\u001b[0m\u001b[0;34m(\u001b[0m\u001b[0;34m)\u001b[0m\u001b[0;34m\u001b[0m\u001b[0;34m\u001b[0m\u001b[0m\n\u001b[1;32m     47\u001b[0m \u001b[0;34m\u001b[0m\u001b[0m\n\u001b[0;32m---> 48\u001b[0;31m     \u001b[0mcontents\u001b[0m \u001b[0;34m=\u001b[0m \u001b[0mread_file\u001b[0m\u001b[0;34m(\u001b[0m\u001b[0mblobpath\u001b[0m\u001b[0;34m)\u001b[0m\u001b[0;34m\u001b[0m\u001b[0;34m\u001b[0m\u001b[0m\n\u001b[0m\u001b[1;32m     49\u001b[0m \u001b[0;34m\u001b[0m\u001b[0m\n\u001b[1;32m     50\u001b[0m     \u001b[0mos\u001b[0m\u001b[0;34m.\u001b[0m\u001b[0mmakedirs\u001b[0m\u001b[0;34m(\u001b[0m\u001b[0mcache_dir\u001b[0m\u001b[0;34m,\u001b[0m \u001b[0mexist_ok\u001b[0m\u001b[0;34m=\u001b[0m\u001b[0;32mTrue\u001b[0m\u001b[0;34m)\u001b[0m\u001b[0;34m\u001b[0m\u001b[0;34m\u001b[0m\u001b[0m\n",
            "\u001b[0;32m/usr/local/lib/python3.10/dist-packages/tiktoken/load.py\u001b[0m in \u001b[0;36mread_file\u001b[0;34m(blobpath)\u001b[0m\n\u001b[1;32m     22\u001b[0m             \u001b[0;32mreturn\u001b[0m \u001b[0mf\u001b[0m\u001b[0;34m.\u001b[0m\u001b[0mread\u001b[0m\u001b[0;34m(\u001b[0m\u001b[0;34m)\u001b[0m\u001b[0;34m\u001b[0m\u001b[0;34m\u001b[0m\u001b[0m\n\u001b[1;32m     23\u001b[0m     \u001b[0;31m# avoiding blobfile for public files helps avoid auth issues, like MFA prompts\u001b[0m\u001b[0;34m\u001b[0m\u001b[0;34m\u001b[0m\u001b[0m\n\u001b[0;32m---> 24\u001b[0;31m     \u001b[0mresp\u001b[0m \u001b[0;34m=\u001b[0m \u001b[0mrequests\u001b[0m\u001b[0;34m.\u001b[0m\u001b[0mget\u001b[0m\u001b[0;34m(\u001b[0m\u001b[0mblobpath\u001b[0m\u001b[0;34m)\u001b[0m\u001b[0;34m\u001b[0m\u001b[0;34m\u001b[0m\u001b[0m\n\u001b[0m\u001b[1;32m     25\u001b[0m     \u001b[0mresp\u001b[0m\u001b[0;34m.\u001b[0m\u001b[0mraise_for_status\u001b[0m\u001b[0;34m(\u001b[0m\u001b[0;34m)\u001b[0m\u001b[0;34m\u001b[0m\u001b[0;34m\u001b[0m\u001b[0m\n\u001b[1;32m     26\u001b[0m     \u001b[0;32mreturn\u001b[0m \u001b[0mresp\u001b[0m\u001b[0;34m.\u001b[0m\u001b[0mcontent\u001b[0m\u001b[0;34m\u001b[0m\u001b[0;34m\u001b[0m\u001b[0m\n",
            "\u001b[0;32m/usr/local/lib/python3.10/dist-packages/requests/api.py\u001b[0m in \u001b[0;36mget\u001b[0;34m(url, params, **kwargs)\u001b[0m\n\u001b[1;32m     73\u001b[0m     \"\"\"\n\u001b[1;32m     74\u001b[0m \u001b[0;34m\u001b[0m\u001b[0m\n\u001b[0;32m---> 75\u001b[0;31m     \u001b[0;32mreturn\u001b[0m \u001b[0mrequest\u001b[0m\u001b[0;34m(\u001b[0m\u001b[0;34m'get'\u001b[0m\u001b[0;34m,\u001b[0m \u001b[0murl\u001b[0m\u001b[0;34m,\u001b[0m \u001b[0mparams\u001b[0m\u001b[0;34m=\u001b[0m\u001b[0mparams\u001b[0m\u001b[0;34m,\u001b[0m \u001b[0;34m**\u001b[0m\u001b[0mkwargs\u001b[0m\u001b[0;34m)\u001b[0m\u001b[0;34m\u001b[0m\u001b[0;34m\u001b[0m\u001b[0m\n\u001b[0m\u001b[1;32m     76\u001b[0m \u001b[0;34m\u001b[0m\u001b[0m\n\u001b[1;32m     77\u001b[0m \u001b[0;34m\u001b[0m\u001b[0m\n",
            "\u001b[0;32m/usr/local/lib/python3.10/dist-packages/requests/api.py\u001b[0m in \u001b[0;36mrequest\u001b[0;34m(method, url, **kwargs)\u001b[0m\n\u001b[1;32m     59\u001b[0m     \u001b[0;31m# cases, and look like a memory leak in others.\u001b[0m\u001b[0;34m\u001b[0m\u001b[0;34m\u001b[0m\u001b[0m\n\u001b[1;32m     60\u001b[0m     \u001b[0;32mwith\u001b[0m \u001b[0msessions\u001b[0m\u001b[0;34m.\u001b[0m\u001b[0mSession\u001b[0m\u001b[0;34m(\u001b[0m\u001b[0;34m)\u001b[0m \u001b[0;32mas\u001b[0m \u001b[0msession\u001b[0m\u001b[0;34m:\u001b[0m\u001b[0;34m\u001b[0m\u001b[0;34m\u001b[0m\u001b[0m\n\u001b[0;32m---> 61\u001b[0;31m         \u001b[0;32mreturn\u001b[0m \u001b[0msession\u001b[0m\u001b[0;34m.\u001b[0m\u001b[0mrequest\u001b[0m\u001b[0;34m(\u001b[0m\u001b[0mmethod\u001b[0m\u001b[0;34m=\u001b[0m\u001b[0mmethod\u001b[0m\u001b[0;34m,\u001b[0m \u001b[0murl\u001b[0m\u001b[0;34m=\u001b[0m\u001b[0murl\u001b[0m\u001b[0;34m,\u001b[0m \u001b[0;34m**\u001b[0m\u001b[0mkwargs\u001b[0m\u001b[0;34m)\u001b[0m\u001b[0;34m\u001b[0m\u001b[0;34m\u001b[0m\u001b[0m\n\u001b[0m\u001b[1;32m     62\u001b[0m \u001b[0;34m\u001b[0m\u001b[0m\n\u001b[1;32m     63\u001b[0m \u001b[0;34m\u001b[0m\u001b[0m\n",
            "\u001b[0;32m/usr/local/lib/python3.10/dist-packages/requests/sessions.py\u001b[0m in \u001b[0;36mrequest\u001b[0;34m(self, method, url, params, data, headers, cookies, files, auth, timeout, allow_redirects, proxies, hooks, stream, verify, cert, json)\u001b[0m\n\u001b[1;32m    527\u001b[0m         }\n\u001b[1;32m    528\u001b[0m         \u001b[0msend_kwargs\u001b[0m\u001b[0;34m.\u001b[0m\u001b[0mupdate\u001b[0m\u001b[0;34m(\u001b[0m\u001b[0msettings\u001b[0m\u001b[0;34m)\u001b[0m\u001b[0;34m\u001b[0m\u001b[0;34m\u001b[0m\u001b[0m\n\u001b[0;32m--> 529\u001b[0;31m         \u001b[0mresp\u001b[0m \u001b[0;34m=\u001b[0m \u001b[0mself\u001b[0m\u001b[0;34m.\u001b[0m\u001b[0msend\u001b[0m\u001b[0;34m(\u001b[0m\u001b[0mprep\u001b[0m\u001b[0;34m,\u001b[0m \u001b[0;34m**\u001b[0m\u001b[0msend_kwargs\u001b[0m\u001b[0;34m)\u001b[0m\u001b[0;34m\u001b[0m\u001b[0;34m\u001b[0m\u001b[0m\n\u001b[0m\u001b[1;32m    530\u001b[0m \u001b[0;34m\u001b[0m\u001b[0m\n\u001b[1;32m    531\u001b[0m         \u001b[0;32mreturn\u001b[0m \u001b[0mresp\u001b[0m\u001b[0;34m\u001b[0m\u001b[0;34m\u001b[0m\u001b[0m\n",
            "\u001b[0;32m/usr/local/lib/python3.10/dist-packages/requests/sessions.py\u001b[0m in \u001b[0;36msend\u001b[0;34m(self, request, **kwargs)\u001b[0m\n\u001b[1;32m    685\u001b[0m \u001b[0;34m\u001b[0m\u001b[0m\n\u001b[1;32m    686\u001b[0m         \u001b[0;32mif\u001b[0m \u001b[0;32mnot\u001b[0m \u001b[0mstream\u001b[0m\u001b[0;34m:\u001b[0m\u001b[0;34m\u001b[0m\u001b[0;34m\u001b[0m\u001b[0m\n\u001b[0;32m--> 687\u001b[0;31m             \u001b[0mr\u001b[0m\u001b[0;34m.\u001b[0m\u001b[0mcontent\u001b[0m\u001b[0;34m\u001b[0m\u001b[0;34m\u001b[0m\u001b[0m\n\u001b[0m\u001b[1;32m    688\u001b[0m \u001b[0;34m\u001b[0m\u001b[0m\n\u001b[1;32m    689\u001b[0m         \u001b[0;32mreturn\u001b[0m \u001b[0mr\u001b[0m\u001b[0;34m\u001b[0m\u001b[0;34m\u001b[0m\u001b[0m\n",
            "\u001b[0;32m/usr/local/lib/python3.10/dist-packages/requests/models.py\u001b[0m in \u001b[0;36mcontent\u001b[0;34m(self)\u001b[0m\n\u001b[1;32m    836\u001b[0m                 \u001b[0mself\u001b[0m\u001b[0;34m.\u001b[0m\u001b[0m_content\u001b[0m \u001b[0;34m=\u001b[0m \u001b[0;32mNone\u001b[0m\u001b[0;34m\u001b[0m\u001b[0;34m\u001b[0m\u001b[0m\n\u001b[1;32m    837\u001b[0m             \u001b[0;32melse\u001b[0m\u001b[0;34m:\u001b[0m\u001b[0;34m\u001b[0m\u001b[0;34m\u001b[0m\u001b[0m\n\u001b[0;32m--> 838\u001b[0;31m                 \u001b[0mself\u001b[0m\u001b[0;34m.\u001b[0m\u001b[0m_content\u001b[0m \u001b[0;34m=\u001b[0m \u001b[0;34mb''\u001b[0m\u001b[0;34m.\u001b[0m\u001b[0mjoin\u001b[0m\u001b[0;34m(\u001b[0m\u001b[0mself\u001b[0m\u001b[0;34m.\u001b[0m\u001b[0miter_content\u001b[0m\u001b[0;34m(\u001b[0m\u001b[0mCONTENT_CHUNK_SIZE\u001b[0m\u001b[0;34m)\u001b[0m\u001b[0;34m)\u001b[0m \u001b[0;32mor\u001b[0m \u001b[0;34mb''\u001b[0m\u001b[0;34m\u001b[0m\u001b[0;34m\u001b[0m\u001b[0m\n\u001b[0m\u001b[1;32m    839\u001b[0m \u001b[0;34m\u001b[0m\u001b[0m\n\u001b[1;32m    840\u001b[0m         \u001b[0mself\u001b[0m\u001b[0;34m.\u001b[0m\u001b[0m_content_consumed\u001b[0m \u001b[0;34m=\u001b[0m \u001b[0;32mTrue\u001b[0m\u001b[0;34m\u001b[0m\u001b[0;34m\u001b[0m\u001b[0m\n",
            "\u001b[0;32m/usr/local/lib/python3.10/dist-packages/requests/models.py\u001b[0m in \u001b[0;36mgenerate\u001b[0;34m()\u001b[0m\n\u001b[1;32m    758\u001b[0m             \u001b[0;32mif\u001b[0m \u001b[0mhasattr\u001b[0m\u001b[0;34m(\u001b[0m\u001b[0mself\u001b[0m\u001b[0;34m.\u001b[0m\u001b[0mraw\u001b[0m\u001b[0;34m,\u001b[0m \u001b[0;34m'stream'\u001b[0m\u001b[0;34m)\u001b[0m\u001b[0;34m:\u001b[0m\u001b[0;34m\u001b[0m\u001b[0;34m\u001b[0m\u001b[0m\n\u001b[1;32m    759\u001b[0m                 \u001b[0;32mtry\u001b[0m\u001b[0;34m:\u001b[0m\u001b[0;34m\u001b[0m\u001b[0;34m\u001b[0m\u001b[0m\n\u001b[0;32m--> 760\u001b[0;31m                     \u001b[0;32mfor\u001b[0m \u001b[0mchunk\u001b[0m \u001b[0;32min\u001b[0m \u001b[0mself\u001b[0m\u001b[0;34m.\u001b[0m\u001b[0mraw\u001b[0m\u001b[0;34m.\u001b[0m\u001b[0mstream\u001b[0m\u001b[0;34m(\u001b[0m\u001b[0mchunk_size\u001b[0m\u001b[0;34m,\u001b[0m \u001b[0mdecode_content\u001b[0m\u001b[0;34m=\u001b[0m\u001b[0;32mTrue\u001b[0m\u001b[0;34m)\u001b[0m\u001b[0;34m:\u001b[0m\u001b[0;34m\u001b[0m\u001b[0;34m\u001b[0m\u001b[0m\n\u001b[0m\u001b[1;32m    761\u001b[0m                         \u001b[0;32myield\u001b[0m \u001b[0mchunk\u001b[0m\u001b[0;34m\u001b[0m\u001b[0;34m\u001b[0m\u001b[0m\n\u001b[1;32m    762\u001b[0m                 \u001b[0;32mexcept\u001b[0m \u001b[0mProtocolError\u001b[0m \u001b[0;32mas\u001b[0m \u001b[0me\u001b[0m\u001b[0;34m:\u001b[0m\u001b[0;34m\u001b[0m\u001b[0;34m\u001b[0m\u001b[0m\n",
            "\u001b[0;32m/usr/local/lib/python3.10/dist-packages/urllib3/response.py\u001b[0m in \u001b[0;36mstream\u001b[0;34m(self, amt, decode_content)\u001b[0m\n\u001b[1;32m    626\u001b[0m         \u001b[0;32melse\u001b[0m\u001b[0;34m:\u001b[0m\u001b[0;34m\u001b[0m\u001b[0;34m\u001b[0m\u001b[0m\n\u001b[1;32m    627\u001b[0m             \u001b[0;32mwhile\u001b[0m \u001b[0;32mnot\u001b[0m \u001b[0mis_fp_closed\u001b[0m\u001b[0;34m(\u001b[0m\u001b[0mself\u001b[0m\u001b[0;34m.\u001b[0m\u001b[0m_fp\u001b[0m\u001b[0;34m)\u001b[0m\u001b[0;34m:\u001b[0m\u001b[0;34m\u001b[0m\u001b[0;34m\u001b[0m\u001b[0m\n\u001b[0;32m--> 628\u001b[0;31m                 \u001b[0mdata\u001b[0m \u001b[0;34m=\u001b[0m \u001b[0mself\u001b[0m\u001b[0;34m.\u001b[0m\u001b[0mread\u001b[0m\u001b[0;34m(\u001b[0m\u001b[0mamt\u001b[0m\u001b[0;34m=\u001b[0m\u001b[0mamt\u001b[0m\u001b[0;34m,\u001b[0m \u001b[0mdecode_content\u001b[0m\u001b[0;34m=\u001b[0m\u001b[0mdecode_content\u001b[0m\u001b[0;34m)\u001b[0m\u001b[0;34m\u001b[0m\u001b[0;34m\u001b[0m\u001b[0m\n\u001b[0m\u001b[1;32m    629\u001b[0m \u001b[0;34m\u001b[0m\u001b[0m\n\u001b[1;32m    630\u001b[0m                 \u001b[0;32mif\u001b[0m \u001b[0mdata\u001b[0m\u001b[0;34m:\u001b[0m\u001b[0;34m\u001b[0m\u001b[0;34m\u001b[0m\u001b[0m\n",
            "\u001b[0;32m/usr/local/lib/python3.10/dist-packages/urllib3/response.py\u001b[0m in \u001b[0;36mread\u001b[0;34m(self, amt, decode_content, cache_content)\u001b[0m\n\u001b[1;32m    565\u001b[0m \u001b[0;34m\u001b[0m\u001b[0m\n\u001b[1;32m    566\u001b[0m         \u001b[0;32mwith\u001b[0m \u001b[0mself\u001b[0m\u001b[0;34m.\u001b[0m\u001b[0m_error_catcher\u001b[0m\u001b[0;34m(\u001b[0m\u001b[0;34m)\u001b[0m\u001b[0;34m:\u001b[0m\u001b[0;34m\u001b[0m\u001b[0;34m\u001b[0m\u001b[0m\n\u001b[0;32m--> 567\u001b[0;31m             \u001b[0mdata\u001b[0m \u001b[0;34m=\u001b[0m \u001b[0mself\u001b[0m\u001b[0;34m.\u001b[0m\u001b[0m_fp_read\u001b[0m\u001b[0;34m(\u001b[0m\u001b[0mamt\u001b[0m\u001b[0;34m)\u001b[0m \u001b[0;32mif\u001b[0m \u001b[0;32mnot\u001b[0m \u001b[0mfp_closed\u001b[0m \u001b[0;32melse\u001b[0m \u001b[0;34mb\"\"\u001b[0m\u001b[0;34m\u001b[0m\u001b[0;34m\u001b[0m\u001b[0m\n\u001b[0m\u001b[1;32m    568\u001b[0m             \u001b[0;32mif\u001b[0m \u001b[0mamt\u001b[0m \u001b[0;32mis\u001b[0m \u001b[0;32mNone\u001b[0m\u001b[0;34m:\u001b[0m\u001b[0;34m\u001b[0m\u001b[0;34m\u001b[0m\u001b[0m\n\u001b[1;32m    569\u001b[0m                 \u001b[0mflush_decoder\u001b[0m \u001b[0;34m=\u001b[0m \u001b[0;32mTrue\u001b[0m\u001b[0;34m\u001b[0m\u001b[0;34m\u001b[0m\u001b[0m\n",
            "\u001b[0;32m/usr/local/lib/python3.10/dist-packages/urllib3/response.py\u001b[0m in \u001b[0;36m_fp_read\u001b[0;34m(self, amt)\u001b[0m\n\u001b[1;32m    531\u001b[0m         \u001b[0;32melse\u001b[0m\u001b[0;34m:\u001b[0m\u001b[0;34m\u001b[0m\u001b[0;34m\u001b[0m\u001b[0m\n\u001b[1;32m    532\u001b[0m             \u001b[0;31m# StringIO doesn't like amt=None\u001b[0m\u001b[0;34m\u001b[0m\u001b[0;34m\u001b[0m\u001b[0m\n\u001b[0;32m--> 533\u001b[0;31m             \u001b[0;32mreturn\u001b[0m \u001b[0mself\u001b[0m\u001b[0;34m.\u001b[0m\u001b[0m_fp\u001b[0m\u001b[0;34m.\u001b[0m\u001b[0mread\u001b[0m\u001b[0;34m(\u001b[0m\u001b[0mamt\u001b[0m\u001b[0;34m)\u001b[0m \u001b[0;32mif\u001b[0m \u001b[0mamt\u001b[0m \u001b[0;32mis\u001b[0m \u001b[0;32mnot\u001b[0m \u001b[0;32mNone\u001b[0m \u001b[0;32melse\u001b[0m \u001b[0mself\u001b[0m\u001b[0;34m.\u001b[0m\u001b[0m_fp\u001b[0m\u001b[0;34m.\u001b[0m\u001b[0mread\u001b[0m\u001b[0;34m(\u001b[0m\u001b[0;34m)\u001b[0m\u001b[0;34m\u001b[0m\u001b[0;34m\u001b[0m\u001b[0m\n\u001b[0m\u001b[1;32m    534\u001b[0m \u001b[0;34m\u001b[0m\u001b[0m\n\u001b[1;32m    535\u001b[0m     \u001b[0;32mdef\u001b[0m \u001b[0mread\u001b[0m\u001b[0;34m(\u001b[0m\u001b[0mself\u001b[0m\u001b[0;34m,\u001b[0m \u001b[0mamt\u001b[0m\u001b[0;34m=\u001b[0m\u001b[0;32mNone\u001b[0m\u001b[0;34m,\u001b[0m \u001b[0mdecode_content\u001b[0m\u001b[0;34m=\u001b[0m\u001b[0;32mNone\u001b[0m\u001b[0;34m,\u001b[0m \u001b[0mcache_content\u001b[0m\u001b[0;34m=\u001b[0m\u001b[0;32mFalse\u001b[0m\u001b[0;34m)\u001b[0m\u001b[0;34m:\u001b[0m\u001b[0;34m\u001b[0m\u001b[0;34m\u001b[0m\u001b[0m\n",
            "\u001b[0;32m/usr/lib/python3.10/http/client.py\u001b[0m in \u001b[0;36mread\u001b[0;34m(self, amt)\u001b[0m\n\u001b[1;32m    464\u001b[0m                 \u001b[0;31m# clip the read to the \"end of response\"\u001b[0m\u001b[0;34m\u001b[0m\u001b[0;34m\u001b[0m\u001b[0m\n\u001b[1;32m    465\u001b[0m                 \u001b[0mamt\u001b[0m \u001b[0;34m=\u001b[0m \u001b[0mself\u001b[0m\u001b[0;34m.\u001b[0m\u001b[0mlength\u001b[0m\u001b[0;34m\u001b[0m\u001b[0;34m\u001b[0m\u001b[0m\n\u001b[0;32m--> 466\u001b[0;31m             \u001b[0ms\u001b[0m \u001b[0;34m=\u001b[0m \u001b[0mself\u001b[0m\u001b[0;34m.\u001b[0m\u001b[0mfp\u001b[0m\u001b[0;34m.\u001b[0m\u001b[0mread\u001b[0m\u001b[0;34m(\u001b[0m\u001b[0mamt\u001b[0m\u001b[0;34m)\u001b[0m\u001b[0;34m\u001b[0m\u001b[0;34m\u001b[0m\u001b[0m\n\u001b[0m\u001b[1;32m    467\u001b[0m             \u001b[0;32mif\u001b[0m \u001b[0;32mnot\u001b[0m \u001b[0ms\u001b[0m \u001b[0;32mand\u001b[0m \u001b[0mamt\u001b[0m\u001b[0;34m:\u001b[0m\u001b[0;34m\u001b[0m\u001b[0;34m\u001b[0m\u001b[0m\n\u001b[1;32m    468\u001b[0m                 \u001b[0;31m# Ideally, we would raise IncompleteRead if the content-length\u001b[0m\u001b[0;34m\u001b[0m\u001b[0;34m\u001b[0m\u001b[0m\n",
            "\u001b[0;32m/usr/lib/python3.10/socket.py\u001b[0m in \u001b[0;36mreadinto\u001b[0;34m(self, b)\u001b[0m\n\u001b[1;32m    703\u001b[0m         \u001b[0;32mwhile\u001b[0m \u001b[0;32mTrue\u001b[0m\u001b[0;34m:\u001b[0m\u001b[0;34m\u001b[0m\u001b[0;34m\u001b[0m\u001b[0m\n\u001b[1;32m    704\u001b[0m             \u001b[0;32mtry\u001b[0m\u001b[0;34m:\u001b[0m\u001b[0;34m\u001b[0m\u001b[0;34m\u001b[0m\u001b[0m\n\u001b[0;32m--> 705\u001b[0;31m                 \u001b[0;32mreturn\u001b[0m \u001b[0mself\u001b[0m\u001b[0;34m.\u001b[0m\u001b[0m_sock\u001b[0m\u001b[0;34m.\u001b[0m\u001b[0mrecv_into\u001b[0m\u001b[0;34m(\u001b[0m\u001b[0mb\u001b[0m\u001b[0;34m)\u001b[0m\u001b[0;34m\u001b[0m\u001b[0;34m\u001b[0m\u001b[0m\n\u001b[0m\u001b[1;32m    706\u001b[0m             \u001b[0;32mexcept\u001b[0m \u001b[0mtimeout\u001b[0m\u001b[0;34m:\u001b[0m\u001b[0;34m\u001b[0m\u001b[0;34m\u001b[0m\u001b[0m\n\u001b[1;32m    707\u001b[0m                 \u001b[0mself\u001b[0m\u001b[0;34m.\u001b[0m\u001b[0m_timeout_occurred\u001b[0m \u001b[0;34m=\u001b[0m \u001b[0;32mTrue\u001b[0m\u001b[0;34m\u001b[0m\u001b[0;34m\u001b[0m\u001b[0m\n",
            "\u001b[0;32m/usr/lib/python3.10/ssl.py\u001b[0m in \u001b[0;36mrecv_into\u001b[0;34m(self, buffer, nbytes, flags)\u001b[0m\n\u001b[1;32m   1272\u001b[0m                   \u001b[0;34m\"non-zero flags not allowed in calls to recv_into() on %s\"\u001b[0m \u001b[0;34m%\u001b[0m\u001b[0;34m\u001b[0m\u001b[0;34m\u001b[0m\u001b[0m\n\u001b[1;32m   1273\u001b[0m                   self.__class__)\n\u001b[0;32m-> 1274\u001b[0;31m             \u001b[0;32mreturn\u001b[0m \u001b[0mself\u001b[0m\u001b[0;34m.\u001b[0m\u001b[0mread\u001b[0m\u001b[0;34m(\u001b[0m\u001b[0mnbytes\u001b[0m\u001b[0;34m,\u001b[0m \u001b[0mbuffer\u001b[0m\u001b[0;34m)\u001b[0m\u001b[0;34m\u001b[0m\u001b[0;34m\u001b[0m\u001b[0m\n\u001b[0m\u001b[1;32m   1275\u001b[0m         \u001b[0;32melse\u001b[0m\u001b[0;34m:\u001b[0m\u001b[0;34m\u001b[0m\u001b[0;34m\u001b[0m\u001b[0m\n\u001b[1;32m   1276\u001b[0m             \u001b[0;32mreturn\u001b[0m \u001b[0msuper\u001b[0m\u001b[0;34m(\u001b[0m\u001b[0;34m)\u001b[0m\u001b[0;34m.\u001b[0m\u001b[0mrecv_into\u001b[0m\u001b[0;34m(\u001b[0m\u001b[0mbuffer\u001b[0m\u001b[0;34m,\u001b[0m \u001b[0mnbytes\u001b[0m\u001b[0;34m,\u001b[0m \u001b[0mflags\u001b[0m\u001b[0;34m)\u001b[0m\u001b[0;34m\u001b[0m\u001b[0;34m\u001b[0m\u001b[0m\n",
            "\u001b[0;32m/usr/lib/python3.10/ssl.py\u001b[0m in \u001b[0;36mread\u001b[0;34m(self, len, buffer)\u001b[0m\n\u001b[1;32m   1128\u001b[0m         \u001b[0;32mtry\u001b[0m\u001b[0;34m:\u001b[0m\u001b[0;34m\u001b[0m\u001b[0;34m\u001b[0m\u001b[0m\n\u001b[1;32m   1129\u001b[0m             \u001b[0;32mif\u001b[0m \u001b[0mbuffer\u001b[0m \u001b[0;32mis\u001b[0m \u001b[0;32mnot\u001b[0m \u001b[0;32mNone\u001b[0m\u001b[0;34m:\u001b[0m\u001b[0;34m\u001b[0m\u001b[0;34m\u001b[0m\u001b[0m\n\u001b[0;32m-> 1130\u001b[0;31m                 \u001b[0;32mreturn\u001b[0m \u001b[0mself\u001b[0m\u001b[0;34m.\u001b[0m\u001b[0m_sslobj\u001b[0m\u001b[0;34m.\u001b[0m\u001b[0mread\u001b[0m\u001b[0;34m(\u001b[0m\u001b[0mlen\u001b[0m\u001b[0;34m,\u001b[0m \u001b[0mbuffer\u001b[0m\u001b[0;34m)\u001b[0m\u001b[0;34m\u001b[0m\u001b[0;34m\u001b[0m\u001b[0m\n\u001b[0m\u001b[1;32m   1131\u001b[0m             \u001b[0;32melse\u001b[0m\u001b[0;34m:\u001b[0m\u001b[0;34m\u001b[0m\u001b[0;34m\u001b[0m\u001b[0m\n\u001b[1;32m   1132\u001b[0m                 \u001b[0;32mreturn\u001b[0m \u001b[0mself\u001b[0m\u001b[0;34m.\u001b[0m\u001b[0m_sslobj\u001b[0m\u001b[0;34m.\u001b[0m\u001b[0mread\u001b[0m\u001b[0;34m(\u001b[0m\u001b[0mlen\u001b[0m\u001b[0;34m)\u001b[0m\u001b[0;34m\u001b[0m\u001b[0;34m\u001b[0m\u001b[0m\n",
            "\u001b[0;31mKeyboardInterrupt\u001b[0m: "
          ]
        }
      ],
      "source": [
        "index  = construct_index(\"context\")"
      ]
    },
    {
      "cell_type": "code",
      "execution_count": null,
      "metadata": {
        "id": "h3-hVrgyDzDx"
      },
      "outputs": [],
      "source": [
        "def generate_question():\n",
        "  questions = []\n",
        "  index = GPTSimpleVectorIndex.load_from_disk('index.json')\n",
        "  for topic in topics :\n",
        "    query = \"Poser une Question sur \"+ topic + \"Et Donner la sous la forme Question : ... Reponse : ...\"\n",
        "    quiz = index.query(query)\n",
        "    questions.append(quiz)\n",
        "  return questions"
      ]
    },
    {
      "cell_type": "code",
      "source": [
        "import random\n",
        "def generate_question_choix_multp():\n",
        "  questions = []\n",
        "  index = GPTSimpleVectorIndex.load_from_disk('index.json')\n",
        "  random_topics = random.sample(topics, 25)\n",
        "  for topic in random_topics :\n",
        "    query = \"Poser Une Question de choix multiple sur \"+ topic + \"Et Donner la reponse, sous la forme Question : A.choix1 B.choix2 C.choix3 ...  Reponse : ...\"\n",
        "    quiz = index.query(query)\n",
        "    questions.append(quiz)\n",
        "  return questions"
      ],
      "metadata": {
        "id": "Sjj8Wdb9B4G4"
      },
      "execution_count": 14,
      "outputs": []
    },
    {
      "cell_type": "code",
      "source": [
        "questions =  generate_question()"
      ],
      "metadata": {
        "id": "HxknXFPKmOIQ"
      },
      "execution_count": null,
      "outputs": []
    },
    {
      "cell_type": "code",
      "source": [
        "quizs = generate_question_choix_multp()"
      ],
      "metadata": {
        "id": "d0f4h6ShEHTM"
      },
      "execution_count": 15,
      "outputs": []
    },
    {
      "cell_type": "code",
      "source": [
        "with open(\"questions.txt\", \"w\") as file:\n",
        "    for question in questions:\n",
        "        file.write(question.response + \"\\n\")"
      ],
      "metadata": {
        "id": "3NvKyJQUrzgJ"
      },
      "execution_count": null,
      "outputs": []
    },
    {
      "cell_type": "code",
      "source": [
        "with open(\"quizs.txt\", \"w\") as file:\n",
        "    for quiz in quizs:\n",
        "        file.write(quiz.response + \"\\n\")"
      ],
      "metadata": {
        "id": "oLEE4wOxMVf4"
      },
      "execution_count": 17,
      "outputs": []
    },
    {
      "cell_type": "code",
      "source": [
        "def generate_question_choix_multp_topic(top):\n",
        "  index = GPTSimpleVectorIndex.load_from_disk('index.json')\n",
        "  query = \"Poser Une Question de choix multiple sur \"+ top + \"Et Donner la sous la forme Question : ... Reponse : ...\"\n",
        "  quiz = index.query(query)\n",
        "  questions = quiz \n",
        "  return questions"
      ],
      "metadata": {
        "id": "8jIowgglXFpS"
      },
      "execution_count": null,
      "outputs": []
    },
    {
      "cell_type": "code",
      "source": [
        "def generate_question_topic(top):\n",
        "  index = GPTSimpleVectorIndex.load_from_disk('index.json')\n",
        "  query = \"Poser une Question sur \"+ top + \"Et Donner la sous la forme Question : ... Reponse : ...\"\n",
        "  quiz = index.query(query)\n",
        "  questions = quiz \n",
        "  return questions"
      ],
      "metadata": {
        "id": "B6CeBAIQopi1"
      },
      "execution_count": null,
      "outputs": []
    },
    {
      "cell_type": "code",
      "source": [],
      "metadata": {
        "id": "l-WeZxS9YYuw"
      },
      "execution_count": null,
      "outputs": []
    }
  ],
  "metadata": {
    "colab": {
      "provenance": []
    },
    "kernelspec": {
      "display_name": "Python 3",
      "name": "python3"
    },
    "language_info": {
      "name": "python"
    }
  },
  "nbformat": 4,
  "nbformat_minor": 0
}